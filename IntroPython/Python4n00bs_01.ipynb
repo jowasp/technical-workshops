{
  "nbformat": 4,
  "nbformat_minor": 0,
  "metadata": {
    "colab": {
      "name": "Python4n00bs_01.ipynb",
      "version": "0.3.2",
      "provenance": []
    },
    "kernelspec": {
      "display_name": "Python [default]",
      "language": "python",
      "name": "python3"
    }
  },
  "cells": [
    {
      "metadata": {
        "id": "tLVMJv3vF6E-",
        "colab_type": "text"
      },
      "cell_type": "markdown",
      "source": [
        "# Python for n00bs"
      ]
    },
    {
      "metadata": {
        "id": "lKmk2so3F6FB",
        "colab_type": "text"
      },
      "cell_type": "markdown",
      "source": [
        "## Workshop I: Basic concepts in Python\n",
        "Welcome to your first day of programming with Python! My name is Vikram Mark Radhakrishnan. You can find me on [LinkedIn](https://www.linkedin.com/in/vikram-mark-radhakrishnan-90038660/), or reach me via email at radhakrishnan@strw.leidenuniv.nl\n",
        "\n",
        "Shout-out to the [AI Lab One](https://www.meetup.com/AI-Lab/) and [City AI](https://city.ai/) for making this workshop possible!\n",
        "<img src=\"https://github.com/jowasp/technical-workshops/blob/master/IntroPython/nb_images/AI_Lab.png?raw=1\"> "
      ]
    },
    {
      "metadata": {
        "id": "PTIVgTIrF6FC",
        "colab_type": "text"
      },
      "cell_type": "markdown",
      "source": [
        "### 1. Your first Python script!\n",
        "Let's start by learning how to display text on the screen - one of the most useful things to do in all of programming!"
      ]
    },
    {
      "metadata": {
        "id": "_y73B7aQF6FD",
        "colab_type": "code",
        "colab": {}
      },
      "cell_type": "code",
      "source": [
        "# Let's display a message on screen!"
      ],
      "execution_count": 0,
      "outputs": []
    },
    {
      "metadata": {
        "id": "u3b_OsY0F6FG",
        "colab_type": "text"
      },
      "cell_type": "markdown",
      "source": [
        "There's a bunch of things to learn from this one line of code.  \n",
        "First, the line starting with #. This is a comment in Python, meaning that it is purely for you, the programmer to understand what's going on in the code, and is not processed by the Python interpreter.  \n",
        "The print(...) command, which displays whatever is in the parantheses on the screen.  \n",
        "The text to be printed, which is in quotation marks - meaning it is a \"string\". More on this later.  \n",
        "And finally the \"\\n\". The backslash is an escape character, meaning it is taken in combination with the following character. The \\n here means include a new line. Let's look at some more escape characters:"
      ]
    },
    {
      "metadata": {
        "id": "f8lIYBuOF6FH",
        "colab_type": "text"
      },
      "cell_type": "markdown",
      "source": [
        "**ToDo:** Use the correct escape characters in the next cell."
      ]
    },
    {
      "metadata": {
        "id": "EiiQd0SIF6FI",
        "colab_type": "code",
        "colab": {}
      },
      "cell_type": "code",
      "source": [
        "print(\"Put a tab space between these two words: TAB SPACE\")\n",
        "print(\"Print a backslash at the end of this sentence.\")\n",
        "print(\"Enclose this sentence in quotation marks.\")"
      ],
      "execution_count": 0,
      "outputs": []
    },
    {
      "metadata": {
        "id": "xyfzKudxF6FL",
        "colab_type": "text"
      },
      "cell_type": "markdown",
      "source": [
        "### 2. Variables and data types in Python\n",
        "A variable is something used to store data. Unlike a constant, which is data that has a fixed value, the content of a variable can change throughout the code."
      ]
    },
    {
      "metadata": {
        "id": "MWQdMvISF6FM",
        "colab_type": "code",
        "colab": {}
      },
      "cell_type": "code",
      "source": [
        "# Constant\n",
        "print(\"This is a constant: \")\n",
        "print(10)\n",
        "\n",
        "#Variable\n",
        "a = 10\n",
        "print(\"This is a variable: \")\n",
        "print(a)\n",
        "\n",
        "print(\"Let's change the value of the variable: \")\n",
        "a = 20\n",
        "print(a)\n",
        "\n",
        "print(\"Let's change it into a word: \")\n",
        "a = \"twenty\"\n",
        "print(a)\n",
        "\n",
        "valid_variable_name_1 = 1\n",
        "print(valid_variable_name_1)"
      ],
      "execution_count": 0,
      "outputs": []
    },
    {
      "metadata": {
        "id": "mVTtQw7hF6FO",
        "colab_type": "text"
      },
      "cell_type": "markdown",
      "source": [
        "Variables can have different types in Python. Depending on the type of the variable, you can do certain operations on it. For example, you can do mathematical operations such as multiplcation and division on int and float types, which are numbers, but not on string types.\n",
        "\n",
        "#### Numbers:\n",
        "Python supports int (integer) and float (floating point) numbers. A floating point number has a decimal point in it. Python also supports complex numbers (numbers with a real and an imaginary part).\n",
        "#### Words and letters:\n",
        "In Python the str (string) data type refers to words and letters. You must enclose strings in either single or double quotation marks, provided you are consistent. Or you can enclose strings in triple quotation marks which may come in handy as we shall see.\n",
        "#### True and False:\n",
        "Python has a bool (boolean) data type that either contains a True or a False. This is useful when we want to check certain conditions or to make decisions in our code. More on this in conditional statements.\n",
        "\n",
        "You can check the type of a variable by using type(data). Python data can be converted from one type to another."
      ]
    },
    {
      "metadata": {
        "id": "RTdiCLpWF6FP",
        "colab_type": "code",
        "colab": {}
      },
      "cell_type": "code",
      "source": [
        "y = True\n",
        "type(y)"
      ],
      "execution_count": 0,
      "outputs": []
    },
    {
      "metadata": {
        "id": "_0UiUuG9F6FS",
        "colab_type": "text"
      },
      "cell_type": "markdown",
      "source": [
        "You can input data from a user, using the input() function. This function returns the value entered by the user, which you can then store in a variable."
      ]
    },
    {
      "metadata": {
        "id": "3CNhqxacF6FT",
        "colab_type": "code",
        "colab": {}
      },
      "cell_type": "code",
      "source": [
        "user_choice = input(\"Pick a number! Any number! \")\n",
        "print(\"You picked the number \" + user_choice)"
      ],
      "execution_count": 0,
      "outputs": []
    },
    {
      "metadata": {
        "id": "ZRtyKAUFF6FV",
        "colab_type": "text"
      },
      "cell_type": "markdown",
      "source": [
        "**ToDo:** Try to input some data from the user and display what type of data it is."
      ]
    },
    {
      "metadata": {
        "id": "xJrY-ZSTF6FX",
        "colab_type": "text"
      },
      "cell_type": "markdown",
      "source": [
        "### 3. Operations in Python\n",
        "We can use Python quite simply as a calculator. If we are working with integers, floats, or complex numbers, or variables with such data stored in them, we can perform calculations with this.  \n",
        "Note that if you combine int with float in your calculations, the result is a float. If you combine int or float with complex, the result is complex.  \n",
        "Here are a (not complete) list of mathematical operations:\n",
        "1. Addition +\n",
        "2. Subtraction - \n",
        "3. Multiplication *\n",
        "4. Division /\n",
        "5. Integer division //\n",
        "6. Modulus (remainder) %\n",
        "7. Raising to a power **\n",
        "8. Matrix multiplication @"
      ]
    },
    {
      "metadata": {
        "id": "YzPLN9HjF6FY",
        "colab_type": "text"
      },
      "cell_type": "markdown",
      "source": [
        "A variable can be operated upon in-place:"
      ]
    },
    {
      "metadata": {
        "id": "WM30Pe84F6FZ",
        "colab_type": "code",
        "colab": {}
      },
      "cell_type": "code",
      "source": [
        "var = 5\n",
        "var *= 2\n",
        "print(var)\n",
        "\n",
        "var -= 3\n",
        "print(var)"
      ],
      "execution_count": 0,
      "outputs": []
    },
    {
      "metadata": {
        "id": "LYFnT2roF6Fd",
        "colab_type": "text"
      },
      "cell_type": "markdown",
      "source": [
        "**ToDo:** Rewrite the code so that it accepts user input height and weight and uses that to calculate the BMI."
      ]
    },
    {
      "metadata": {
        "id": "J-2lMzfnF6Fe",
        "colab_type": "code",
        "colab": {}
      },
      "cell_type": "code",
      "source": [
        "# Can you rewrite this to accept user input for the calculation?\n",
        "\n",
        "height = 1.74\n",
        "weight = 80\n",
        "\n",
        "bmi = float(weight) / (height) ** 2\n",
        "\n",
        "print(\"BMI is: \" + str(bmi))"
      ],
      "execution_count": 0,
      "outputs": []
    },
    {
      "metadata": {
        "id": "nZZb6v9mF6Fg",
        "colab_type": "text"
      },
      "cell_type": "markdown",
      "source": [
        "Note that with different data types, certain operations show differnt behavior. For example, the + operator adds two integers or floats together, but what does it do to two strings?  \n",
        "**ToDo:** Make two variables that hold strings, use the + operator on them, and print the result."
      ]
    },
    {
      "metadata": {
        "id": "WsxZWZ9QF6Fh",
        "colab_type": "text"
      },
      "cell_type": "markdown",
      "source": [
        "Python also has relational operators. These for instance compare different numbers to check which one is greater or if they are equal. The output of an expression with relational operators is a boolean.\n",
        "1. Greater than: a > b\n",
        "2. Less than: a < b\n",
        "3. Equal to: a == b\n",
        "4. Greater than or equal to: a >= b\n",
        "5. Less than or equal to: a <= b\n",
        "6. Not equal to: a != b"
      ]
    },
    {
      "metadata": {
        "id": "8_IZjVcuF6Fh",
        "colab_type": "code",
        "colab": {}
      },
      "cell_type": "code",
      "source": [
        "bird = 10\n",
        "word = 10\n",
        "\n",
        "bird == word"
      ],
      "execution_count": 0,
      "outputs": []
    },
    {
      "metadata": {
        "id": "dy_euMIjF6Fj",
        "colab_type": "text"
      },
      "cell_type": "markdown",
      "source": [
        "In Python, operators that make logical combinations of expressions are called logical operators. They are the words **and** and **or**."
      ]
    },
    {
      "metadata": {
        "id": "6KJQVVE1F6Fk",
        "colab_type": "code",
        "colab": {}
      },
      "cell_type": "code",
      "source": [
        "100 > 90 and \"good\" == \"bad\""
      ],
      "execution_count": 0,
      "outputs": []
    },
    {
      "metadata": {
        "id": "F3pgft_BF6Fl",
        "colab_type": "text"
      },
      "cell_type": "markdown",
      "source": [
        "**ToDo:** Accept a number from the user and print whether it is divisible by ten and greater than hundred."
      ]
    },
    {
      "metadata": {
        "id": "xWGyMZBLF6Fm",
        "colab_type": "text"
      },
      "cell_type": "markdown",
      "source": [
        "### 4. Strings and their methods"
      ]
    },
    {
      "metadata": {
        "id": "zIOpYidmF6Fn",
        "colab_type": "text"
      },
      "cell_type": "markdown",
      "source": [
        "A method is a function that is specific to a certain \"object\" in Python. We'll learn more about classes and objects in the next lesson. For now let's look at some examples of methods that are relevant to string objects, i.e. data with type str."
      ]
    },
    {
      "metadata": {
        "id": "i8HGbYrnF6Fn",
        "colab_type": "code",
        "colab": {}
      },
      "cell_type": "code",
      "source": [
        "name = \"python programming\"\n",
        "\n",
        "capital_name = name.capitalize()\n",
        "all_caps_name = name.upper()\n",
        "replace_t_name = name.replace('t','+')\n",
        "words_in_name = name.split(' ')\n",
        "\n",
        "print(capital_name)"
      ],
      "execution_count": 0,
      "outputs": []
    },
    {
      "metadata": {
        "id": "rBCeccZ3F6Fp",
        "colab_type": "text"
      },
      "cell_type": "markdown",
      "source": [
        "**ToDo:** User inputs a sentence. Convert the sentence to lower case, capitalize the first letter, and replace \"to\" with \"from\", and \"from\" with \"to\"."
      ]
    },
    {
      "metadata": {
        "id": "3KvUlU-PF6Fq",
        "colab_type": "text"
      },
      "cell_type": "markdown",
      "source": [
        "### 5. Collections of items: tuples, lists, sets, and dictionaries\n",
        "A list in Python is an indexed collection of data. Every element in a list can be accessed by its positional index.\n",
        "A tuple is a list that is immutable.  \n",
        "A set is just like a list, but each element in the set is unique.  \n",
        "A dictionary is a collection of data where each element has an identifying keyword, and a value."
      ]
    },
    {
      "metadata": {
        "id": "6kLBGBFxF6Fr",
        "colab_type": "code",
        "colab": {}
      },
      "cell_type": "code",
      "source": [
        "list_1 = [1, 2, 3, 4, 5]\n",
        "list_2 = list()\n",
        "\n",
        "dict_1 = {\"Arms\":\"Heavy\", \"Knees\":\"Weak\", \"Palms\":\"Sweaty\", \"Vomit\":\"Sweater\"}\n",
        "dict_2 = dict()\n",
        "\n",
        "tuple_1 = (1, 3, 5, 7, 9)\n",
        "\n",
        "set_1 = {1, 1, 2, 3, 5, 8, 13}"
      ],
      "execution_count": 0,
      "outputs": []
    },
    {
      "metadata": {
        "id": "bpSnI4MyF6Ft",
        "colab_type": "text"
      },
      "cell_type": "markdown",
      "source": [
        "We can add new elements to a list by using the append or extend method of a list. We can add new elements to a dictionary either by defining a new key, or by using the update method of a dict. We can add new elements to a set by using the add or update method of a set."
      ]
    },
    {
      "metadata": {
        "id": "r3tmRMywF6Fu",
        "colab_type": "code",
        "colab": {}
      },
      "cell_type": "code",
      "source": [
        "names = [\"Vikram\", \"Boby\", \"Ahmed\"]\n",
        "names.extend([\"Arjen\", \"Bart\", \"Benedikt\"])\n",
        "print(names)"
      ],
      "execution_count": 0,
      "outputs": []
    },
    {
      "metadata": {
        "id": "PncD3_UJF6Fw",
        "colab_type": "text"
      },
      "cell_type": "markdown",
      "source": [
        "Slicing a list is an often confusing aspect of Python. Lists can be sliced using the index and the : operator. The slice operation is **inclusive** of the first index and **exclusive** of the last index. For example:"
      ]
    },
    {
      "metadata": {
        "id": "ng2UPck9F6Fx",
        "colab_type": "code",
        "colab": {}
      },
      "cell_type": "code",
      "source": [
        "a_list = [12, 65, 34, -19, -18, 43, -24, -5, 0, 7, 17]\n",
        "\n",
        "# Slice from somewhere in the middle\n",
        "sub_list_mid = a_list[3:6]\n",
        "\n",
        "# Slice the first five elements\n",
        "sub_list_start = a_list[:5]\n",
        "\n",
        "# Slice from element 5 to the end\n",
        "sub_list_end = a_list[5:]\n",
        "\n",
        "# Slice the last five elements\n",
        "sub_list_last = a_list[-5:]\n",
        "\n",
        "# Make a copy of the list\n",
        "a_list_copy = a_list[:]"
      ],
      "execution_count": 0,
      "outputs": []
    },
    {
      "metadata": {
        "id": "QkKgVthqF6Fz",
        "colab_type": "text"
      },
      "cell_type": "markdown",
      "source": [
        "**ToDo:** Make a list of everyone's ages. Remove all the duplicate elements, i.e. convert it into a set, and then back into a list. Then print the fourth, fifth, and sixth element from the resulting set."
      ]
    },
    {
      "metadata": {
        "id": "yYWbVqZoF6F0",
        "colab_type": "text"
      },
      "cell_type": "markdown",
      "source": [
        "A string can also be treated as a list of characters."
      ]
    },
    {
      "metadata": {
        "id": "PsX3sB6cF6F1",
        "colab_type": "code",
        "colab": {}
      },
      "cell_type": "code",
      "source": [
        "charlist = \"Nothing but a string\"\n",
        "charlist[4:8]"
      ],
      "execution_count": 0,
      "outputs": []
    },
    {
      "metadata": {
        "id": "fM8qTws0F6F4",
        "colab_type": "text"
      },
      "cell_type": "markdown",
      "source": [
        "You can measure te length of a string using the len() function."
      ]
    },
    {
      "metadata": {
        "id": "stNDVJl2F6F4",
        "colab_type": "code",
        "colab": {}
      },
      "cell_type": "code",
      "source": [
        "len(charlist)"
      ],
      "execution_count": 0,
      "outputs": []
    },
    {
      "metadata": {
        "id": "NbimQMj-F6F6",
        "colab_type": "text"
      },
      "cell_type": "markdown",
      "source": [
        "### 5. Should we do this? Conditional statements\n",
        "In Python, we can check if a condition is true or not, using the if, elif, and else statements. We can execute different lines of code based on the results of these checks."
      ]
    },
    {
      "metadata": {
        "id": "SBUMp_SCF6F7",
        "colab_type": "code",
        "colab": {}
      },
      "cell_type": "code",
      "source": [
        "a_number = input(\"Enter a number between one and a hundred: \")\n",
        "a_number = int(a_number)\n",
        "\n",
        "if a_number < 1:\n",
        "    print(\"That's too small!\")\n",
        "elif a_number > 100:\n",
        "    print(\"That's too large!\")\n",
        "else:\n",
        "    print(\"A wise choice!\")"
      ],
      "execution_count": 0,
      "outputs": []
    },
    {
      "metadata": {
        "id": "EIZmt30VF6F8",
        "colab_type": "text"
      },
      "cell_type": "markdown",
      "source": [
        "The if statement can also be used to check whether a certain element exists in a list, using the \"in\" keyword.  \n",
        "You can perform a function (such as converting from one data type to another) on every element of a list, using the map function."
      ]
    },
    {
      "metadata": {
        "id": "MJzfSSSTF6F9",
        "colab_type": "text"
      },
      "cell_type": "markdown",
      "source": [
        "**ToDo:** Enter a list of numbers from the user, separated by commas and no spaces. Split this list into the individual numbers in the list, and convert them from type str to type int. Check if the number 10 exists in this list, and if it does, display a message."
      ]
    },
    {
      "metadata": {
        "id": "8aMhl8TlF6F-",
        "colab_type": "text"
      },
      "cell_type": "markdown",
      "source": [
        "**ToDo:** Answer the riddle - a programmer's mother asks him to go to the store. She tells him, \"Buy a carton of milk. If they have eggs, buy twelve\". If you think like a progammer, and if the store had eggs, what does he end up buying?"
      ]
    },
    {
      "metadata": {
        "id": "lq7i5l3qF6F-",
        "colab_type": "code",
        "colab": {}
      },
      "cell_type": "code",
      "source": [
        "milk_cartons = 0\n",
        "eggs = True\n",
        "\n",
        "milk_cartons += 1\n",
        "\n",
        "if(eggs):\n",
        "    milk_cartons += 12\n",
        "\n",
        "print(\"Milk cartons bought: \" + str(milk_bottles))"
      ],
      "execution_count": 0,
      "outputs": []
    },
    {
      "metadata": {
        "id": "CpUENYxQF6GE",
        "colab_type": "text"
      },
      "cell_type": "markdown",
      "source": [
        "**ToDo:** Enter a GPA between 1 and 10. Assign a grade based on the GPA. If the GPA is below 6, the grade is 'F'. If it is between 6 and 7, the grade is D. Between 7 and 8, grade C. Between 8 and 9, grade B. And above 9 is an 'A'. If the user inputs anything else, display an error message."
      ]
    },
    {
      "metadata": {
        "id": "iY6pYDqhF6GF",
        "colab_type": "text"
      },
      "cell_type": "markdown",
      "source": [
        "### 6. Let's do it again and again! Iteration statements\n",
        "There are two main kinds of loop statements in Python. The while loop and the for loop. The while loop constantly checks if a condition is satisfied, and continues to run as long as the condition remains satisfied. The for loop iterates over a list or a sequence, in order. A useful function to use with the for loop is the range() function."
      ]
    },
    {
      "metadata": {
        "id": "xW6309JwF6GF",
        "colab_type": "code",
        "colab": {}
      },
      "cell_type": "code",
      "source": [
        "counter = 5\n",
        "while counter > 0:\n",
        "    print(\"Counter value \" + str(counter))\n",
        "    counter -= 1"
      ],
      "execution_count": 0,
      "outputs": []
    },
    {
      "metadata": {
        "id": "VFcIHLr8F6GH",
        "colab_type": "code",
        "colab": {}
      },
      "cell_type": "code",
      "source": [
        "some_list = [1, 3, 5, 7, 9]\n",
        "for iterable in some_list:\n",
        "    print(iterable)"
      ],
      "execution_count": 0,
      "outputs": []
    },
    {
      "metadata": {
        "id": "77uXN3fdF6GJ",
        "colab_type": "text"
      },
      "cell_type": "markdown",
      "source": [
        "**ToDo:** Let's do that BMI calculation on a list of people. We store their heights in one list, their corresponding weights in another list, and in a loop we calculate the BMI for each person and store that in a third list."
      ]
    },
    {
      "metadata": {
        "id": "AYLOaSTDF6GK",
        "colab_type": "text"
      },
      "cell_type": "markdown",
      "source": [
        "### 7. Writing your own functions\n",
        "Sometimes we need to write a lot of code to do a single, repeatable task. In this case it is useful to write our own function, and replace that block of code with a function call."
      ]
    },
    {
      "metadata": {
        "id": "JfZ4gLb5F6GK",
        "colab_type": "code",
        "colab": {}
      },
      "cell_type": "code",
      "source": [
        "def bmi_calculator(h, w):\n",
        "    bmi = w / (h ** 2)"
      ],
      "execution_count": 0,
      "outputs": []
    },
    {
      "metadata": {
        "id": "PNYXQbopF6GM",
        "colab_type": "text"
      },
      "cell_type": "markdown",
      "source": [
        "We can set default values for the parameters passed to a function. These default parameters will be overwritten if the user passes different values."
      ]
    },
    {
      "metadata": {
        "id": "7U56sTQJF6GN",
        "colab_type": "code",
        "colab": {}
      },
      "cell_type": "code",
      "source": [
        "def volume_of_cylinder(h=10, r=5):\n",
        "    vol = 3.14159 * r ** 2 * h"
      ],
      "execution_count": 0,
      "outputs": []
    },
    {
      "metadata": {
        "id": "Q3WNXtKJF6GP",
        "colab_type": "text"
      },
      "cell_type": "markdown",
      "source": [
        "**ToDo:** Write a function that accepts a list of numbers, and takes the mean or median of these numbers, based on a boolean parameter called \"mean\". If mean is true, which it is by default, the function returns the arithmetic mean of the numbers. If mean is false, the function returns the median, i.e. the middle value of the sorted list."
      ]
    },
    {
      "metadata": {
        "id": "r4D-tcn8F6GQ",
        "colab_type": "text"
      },
      "cell_type": "markdown",
      "source": [
        "### 8. Let's put your Python skills in action!\n",
        "One last thing before we move on to coding a fun little game in Python: Python allows for a lot of reusability. You can use codes that other people have written, simply by using import. Libraries and Python packages that are extremely useful for data science, for example, are available to you in Python simply by installing them on your computer and importing them in your code.  \n",
        "\n",
        "<img src=\"https://github.com/jowasp/technical-workshops/blob/master/IntroPython/nb_images/python.png?raw=1\"> "
      ]
    },
    {
      "metadata": {
        "id": "I1KKrAiIF6GT",
        "colab_type": "code",
        "colab": {}
      },
      "cell_type": "code",
      "source": [
        "# We'll need this for what we are going to do next\n",
        "from IPython.display import clear_output"
      ],
      "execution_count": 0,
      "outputs": []
    },
    {
      "metadata": {
        "id": "rUyprq5TF6GU",
        "colab_type": "text"
      },
      "cell_type": "markdown",
      "source": [
        "We will code the game of Hangman together! The objective of the game is to guess a word or phrase by guessing letters. Each time you guess a letter that isn't part of the word, you lose an attempt. You have 10 attempts before the game is over."
      ]
    },
    {
      "metadata": {
        "id": "h9GoHaJgF6GV",
        "colab_type": "code",
        "colab": {}
      },
      "cell_type": "code",
      "source": [
        "# This function displays the blanks and letters\n",
        "def display_word(gl, w, a=10):\n",
        "    # First clear the previous display\n",
        "    clear_output()\n",
        "    for character in w:\n",
        "        if character in gl: #display the letters already guessed\n",
        "            print(character, end = '')\n",
        "        elif character == ' ': #print spaces because we don't guess those\n",
        "            print(character, end = '')\n",
        "        else: #otherwise print a dash\n",
        "            print('_', end = '')\n",
        "    \n",
        "    print(\"\\nAttempts left: \" + str(a))\n",
        "\n",
        "# Let's make a list to store the letters that have already been guessed\n",
        "guessed_letters =[]\n",
        "\n",
        "# We set the number of attempts to guess\n",
        "num_attempts = 10\n",
        "\n",
        "\n",
        "# Now player 1 inputs a word or phrase\n",
        "guess_word_input = input(\"guess the word: \")\n",
        "\n",
        "# Convert it to lower case to reduce complexity\n",
        "guess_word_input = guess_word_input.lower()\n",
        "\n",
        "# We make a set out of this word to keep track of all the letters to guess\n",
        "# We also remove spaces because we don't guess those\n",
        "\n",
        "\n",
        "# And we make a counter to count the correct guesses. When this matches the number of unique letters, the game is won\n",
        "\n",
        "\n",
        "# Start a loop where you keep track of attempts\n",
        "\n",
        "    # Player 2 guesses a letter\n",
        "    \n",
        "    \n",
        "    # Check if this letter has not been guessed before, in which case add it to the list\n",
        "    \n",
        "    \n",
        "    # Check if the letter is in the actual word or phrase. If not, player 2 loses an attempt.\n",
        "    \n",
        "    # Otherwise increment the correct letter counter\n",
        "    \n",
        "    \n",
        "    # Use the function written above to display the guessed word\n",
        "    \n",
        "    \n",
        "    # Check for a win\n",
        "    "
      ],
      "execution_count": 0,
      "outputs": []
    }
  ]
}